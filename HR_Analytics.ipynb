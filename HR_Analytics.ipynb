{
  "cells": [
    {
      "cell_type": "markdown",
      "metadata": {
        "id": "view-in-github",
        "colab_type": "text"
      },
      "source": [
        "<a href=\"https://colab.research.google.com/github/Jeri-n/HR_Analytics/blob/main/HR_Analytics.ipynb\" target=\"_parent\"><img src=\"https://colab.research.google.com/assets/colab-badge.svg\" alt=\"Open In Colab\"/></a>"
      ]
    },
    {
      "cell_type": "markdown",
      "metadata": {
        "id": "yEqDC39-fDPj"
      },
      "source": [
        "##Loading Libraries"
      ]
    },
    {
      "cell_type": "code",
      "execution_count": null,
      "metadata": {
        "id": "avhetbEHewnz"
      },
      "outputs": [],
      "source": [
        "#Import the required libraries \n",
        "import pandas as pd\n",
        "import numpy as np\n",
        "import seaborn as sns\n",
        "import matplotlib.pyplot as plt\n",
        "import warnings\n",
        "warnings.filterwarnings('ignore', category=FutureWarning)\n",
        "warnings.filterwarnings('ignore')\n",
        "\n",
        "from sklearn.preprocessing import StandardScaler\n",
        "from sklearn.model_selection import train_test_split\n",
        "from sklearn.linear_model import LogisticRegression\n",
        "from sklearn.tree import DecisionTreeClassifier\n",
        "from sklearn.ensemble import RandomForestClassifier\n",
        "from sklearn.ensemble import AdaBoostClassifier\n",
        "from sklearn.ensemble import GradientBoostingClassifier\n",
        "from sklearn.svm import SVC\n",
        "from sklearn.ensemble import VotingClassifier\n",
        "from sklearn.metrics import accuracy_score\n",
        "from sklearn import preprocessing"
      ]
    },
    {
      "cell_type": "code",
      "execution_count": null,
      "metadata": {
        "colab": {
          "base_uri": "https://localhost:8080/"
        },
        "id": "TXcvhqCefKGM",
        "outputId": "7c9b5d46-b8dd-4a45-877b-68a62f94a736"
      },
      "outputs": [
        {
          "output_type": "stream",
          "name": "stdout",
          "text": [
            "Drive already mounted at /content/drive; to attempt to forcibly remount, call drive.mount(\"/content/drive\", force_remount=True).\n"
          ]
        }
      ],
      "source": [
        "from google.colab import drive\n",
        "drive.mount('/content/drive')"
      ]
    },
    {
      "cell_type": "code",
      "execution_count": null,
      "metadata": {
        "colab": {
          "base_uri": "https://localhost:8080/",
          "height": 211
        },
        "id": "S9ntslO1fWlc",
        "outputId": "f5286642-ab5d-4248-f6eb-78be874f7f89"
      },
      "outputs": [
        {
          "output_type": "execute_result",
          "data": {
            "text/plain": [
              "   employee_id         department     region         education gender  \\\n",
              "0        65438  Sales & Marketing   region_7  Master's & above      f   \n",
              "1        65141         Operations  region_22        Bachelor's      m   \n",
              "\n",
              "  recruitment_channel  no_of_trainings  age  previous_year_rating  \\\n",
              "0            sourcing                1   35                   5.0   \n",
              "1               other                1   30                   5.0   \n",
              "\n",
              "   length_of_service  KPIs_met >80%  awards_won?  avg_training_score  \\\n",
              "0                  8              1            0                  49   \n",
              "1                  4              0            0                  60   \n",
              "\n",
              "   is_promoted  \n",
              "0            0  \n",
              "1            0  "
            ],
            "text/html": [
              "\n",
              "  <div id=\"df-e72abb8f-fe49-4bb5-9c58-662ed7da16b4\">\n",
              "    <div class=\"colab-df-container\">\n",
              "      <div>\n",
              "<style scoped>\n",
              "    .dataframe tbody tr th:only-of-type {\n",
              "        vertical-align: middle;\n",
              "    }\n",
              "\n",
              "    .dataframe tbody tr th {\n",
              "        vertical-align: top;\n",
              "    }\n",
              "\n",
              "    .dataframe thead th {\n",
              "        text-align: right;\n",
              "    }\n",
              "</style>\n",
              "<table border=\"1\" class=\"dataframe\">\n",
              "  <thead>\n",
              "    <tr style=\"text-align: right;\">\n",
              "      <th></th>\n",
              "      <th>employee_id</th>\n",
              "      <th>department</th>\n",
              "      <th>region</th>\n",
              "      <th>education</th>\n",
              "      <th>gender</th>\n",
              "      <th>recruitment_channel</th>\n",
              "      <th>no_of_trainings</th>\n",
              "      <th>age</th>\n",
              "      <th>previous_year_rating</th>\n",
              "      <th>length_of_service</th>\n",
              "      <th>KPIs_met &gt;80%</th>\n",
              "      <th>awards_won?</th>\n",
              "      <th>avg_training_score</th>\n",
              "      <th>is_promoted</th>\n",
              "    </tr>\n",
              "  </thead>\n",
              "  <tbody>\n",
              "    <tr>\n",
              "      <th>0</th>\n",
              "      <td>65438</td>\n",
              "      <td>Sales &amp; Marketing</td>\n",
              "      <td>region_7</td>\n",
              "      <td>Master's &amp; above</td>\n",
              "      <td>f</td>\n",
              "      <td>sourcing</td>\n",
              "      <td>1</td>\n",
              "      <td>35</td>\n",
              "      <td>5.0</td>\n",
              "      <td>8</td>\n",
              "      <td>1</td>\n",
              "      <td>0</td>\n",
              "      <td>49</td>\n",
              "      <td>0</td>\n",
              "    </tr>\n",
              "    <tr>\n",
              "      <th>1</th>\n",
              "      <td>65141</td>\n",
              "      <td>Operations</td>\n",
              "      <td>region_22</td>\n",
              "      <td>Bachelor's</td>\n",
              "      <td>m</td>\n",
              "      <td>other</td>\n",
              "      <td>1</td>\n",
              "      <td>30</td>\n",
              "      <td>5.0</td>\n",
              "      <td>4</td>\n",
              "      <td>0</td>\n",
              "      <td>0</td>\n",
              "      <td>60</td>\n",
              "      <td>0</td>\n",
              "    </tr>\n",
              "  </tbody>\n",
              "</table>\n",
              "</div>\n",
              "      <button class=\"colab-df-convert\" onclick=\"convertToInteractive('df-e72abb8f-fe49-4bb5-9c58-662ed7da16b4')\"\n",
              "              title=\"Convert this dataframe to an interactive table.\"\n",
              "              style=\"display:none;\">\n",
              "        \n",
              "  <svg xmlns=\"http://www.w3.org/2000/svg\" height=\"24px\"viewBox=\"0 0 24 24\"\n",
              "       width=\"24px\">\n",
              "    <path d=\"M0 0h24v24H0V0z\" fill=\"none\"/>\n",
              "    <path d=\"M18.56 5.44l.94 2.06.94-2.06 2.06-.94-2.06-.94-.94-2.06-.94 2.06-2.06.94zm-11 1L8.5 8.5l.94-2.06 2.06-.94-2.06-.94L8.5 2.5l-.94 2.06-2.06.94zm10 10l.94 2.06.94-2.06 2.06-.94-2.06-.94-.94-2.06-.94 2.06-2.06.94z\"/><path d=\"M17.41 7.96l-1.37-1.37c-.4-.4-.92-.59-1.43-.59-.52 0-1.04.2-1.43.59L10.3 9.45l-7.72 7.72c-.78.78-.78 2.05 0 2.83L4 21.41c.39.39.9.59 1.41.59.51 0 1.02-.2 1.41-.59l7.78-7.78 2.81-2.81c.8-.78.8-2.07 0-2.86zM5.41 20L4 18.59l7.72-7.72 1.47 1.35L5.41 20z\"/>\n",
              "  </svg>\n",
              "      </button>\n",
              "      \n",
              "  <style>\n",
              "    .colab-df-container {\n",
              "      display:flex;\n",
              "      flex-wrap:wrap;\n",
              "      gap: 12px;\n",
              "    }\n",
              "\n",
              "    .colab-df-convert {\n",
              "      background-color: #E8F0FE;\n",
              "      border: none;\n",
              "      border-radius: 50%;\n",
              "      cursor: pointer;\n",
              "      display: none;\n",
              "      fill: #1967D2;\n",
              "      height: 32px;\n",
              "      padding: 0 0 0 0;\n",
              "      width: 32px;\n",
              "    }\n",
              "\n",
              "    .colab-df-convert:hover {\n",
              "      background-color: #E2EBFA;\n",
              "      box-shadow: 0px 1px 2px rgba(60, 64, 67, 0.3), 0px 1px 3px 1px rgba(60, 64, 67, 0.15);\n",
              "      fill: #174EA6;\n",
              "    }\n",
              "\n",
              "    [theme=dark] .colab-df-convert {\n",
              "      background-color: #3B4455;\n",
              "      fill: #D2E3FC;\n",
              "    }\n",
              "\n",
              "    [theme=dark] .colab-df-convert:hover {\n",
              "      background-color: #434B5C;\n",
              "      box-shadow: 0px 1px 3px 1px rgba(0, 0, 0, 0.15);\n",
              "      filter: drop-shadow(0px 1px 2px rgba(0, 0, 0, 0.3));\n",
              "      fill: #FFFFFF;\n",
              "    }\n",
              "  </style>\n",
              "\n",
              "      <script>\n",
              "        const buttonEl =\n",
              "          document.querySelector('#df-e72abb8f-fe49-4bb5-9c58-662ed7da16b4 button.colab-df-convert');\n",
              "        buttonEl.style.display =\n",
              "          google.colab.kernel.accessAllowed ? 'block' : 'none';\n",
              "\n",
              "        async function convertToInteractive(key) {\n",
              "          const element = document.querySelector('#df-e72abb8f-fe49-4bb5-9c58-662ed7da16b4');\n",
              "          const dataTable =\n",
              "            await google.colab.kernel.invokeFunction('convertToInteractive',\n",
              "                                                     [key], {});\n",
              "          if (!dataTable) return;\n",
              "\n",
              "          const docLinkHtml = 'Like what you see? Visit the ' +\n",
              "            '<a target=\"_blank\" href=https://colab.research.google.com/notebooks/data_table.ipynb>data table notebook</a>'\n",
              "            + ' to learn more about interactive tables.';\n",
              "          element.innerHTML = '';\n",
              "          dataTable['output_type'] = 'display_data';\n",
              "          await google.colab.output.renderOutput(dataTable, element);\n",
              "          const docLink = document.createElement('div');\n",
              "          docLink.innerHTML = docLinkHtml;\n",
              "          element.appendChild(docLink);\n",
              "        }\n",
              "      </script>\n",
              "    </div>\n",
              "  </div>\n",
              "  "
            ]
          },
          "metadata": {},
          "execution_count": 86
        }
      ],
      "source": [
        "#Loading the dataset\n",
        "df=pd.read_csv(\"/content/drive/MyDrive/Luminar_Projects/HR_Analytics/train.csv\")\n",
        "df.head(2)"
      ]
    },
    {
      "cell_type": "markdown",
      "metadata": {
        "id": "HmQZ5SgFf2DQ"
      },
      "source": [
        "## Basic EDA"
      ]
    },
    {
      "cell_type": "code",
      "execution_count": null,
      "metadata": {
        "colab": {
          "base_uri": "https://localhost:8080/"
        },
        "id": "s6-WaPoDfxDI",
        "outputId": "e21de68b-ce33-483e-a093-6ada92acb1e8"
      },
      "outputs": [
        {
          "output_type": "execute_result",
          "data": {
            "text/plain": [
              "array([0, 1])"
            ]
          },
          "metadata": {},
          "execution_count": 43
        }
      ],
      "source": [
        "#Checking the unique values in target variable\n",
        "df[\"is_promoted\"].unique()"
      ]
    },
    {
      "cell_type": "code",
      "execution_count": null,
      "metadata": {
        "colab": {
          "base_uri": "https://localhost:8080/",
          "height": 280
        },
        "id": "VyGcN0qZf59C",
        "outputId": "9cdd2514-a5d3-43bc-d680-77681bf1ecd9"
      },
      "outputs": [
        {
          "output_type": "display_data",
          "data": {
            "text/plain": [
              "<Figure size 432x288 with 1 Axes>"
            ],
            "image/png": "[encoded data removed]"
          },
          "metadata": {
            "needs_background": "light"
          }
        }
      ],
      "source": [
        "#Plotting the target variable\n",
        "sns.countplot(x=\"is_promoted\",data=df)\n",
        "plt.show()"
      ]
    },
    {
      "cell_type": "code",
      "execution_count": null,
      "metadata": {
        "colab": {
          "base_uri": "https://localhost:8080/"
        },
        "id": "A8dMJYcDgCYW",
        "outputId": "03aacd1b-734f-49d6-da87-f3de1c5197d4"
      },
      "outputs": [
        {
          "output_type": "execute_result",
          "data": {
            "text/plain": [
              "0    50140\n",
              "1     4668\n",
              "Name: is_promoted, dtype: int64"
            ]
          },
          "metadata": {},
          "execution_count": 45
        }
      ],
      "source": [
        "#checking the value counts\n",
        "df[\"is_promoted\"].value_counts()"
      ]
    },
    {
      "cell_type": "code",
      "execution_count": null,
      "metadata": {
        "colab": {
          "base_uri": "https://localhost:8080/"
        },
        "id": "fwZui9yEgHNz",
        "outputId": "f5e40ec9-507e-4508-c617-419e15e28685"
      },
      "outputs": [
        {
          "output_type": "execute_result",
          "data": {
            "text/plain": [
              "(54808, 14)"
            ]
          },
          "metadata": {},
          "execution_count": 46
        }
      ],
      "source": [
        "#Shape of the dataset\n",
        "df.shape"
      ]
    },
    {
      "cell_type": "code",
      "execution_count": null,
      "metadata": {
        "colab": {
          "base_uri": "https://localhost:8080/"
        },
        "id": "snb65g_GgJfM",
        "outputId": "84c16eb5-9358-4fea-fe62-2a0f528241e3"
      },
      "outputs": [
        {
          "output_type": "stream",
          "name": "stdout",
          "text": [
            "<class 'pandas.core.frame.DataFrame'>\n",
            "RangeIndex: 54808 entries, 0 to 54807\n",
            "Data columns (total 14 columns):\n",
            " #   Column                Non-Null Count  Dtype  \n",
            "---  ------                --------------  -----  \n",
            " 0   employee_id           54808 non-null  int64  \n",
            " 1   department            54808 non-null  object \n",
            " 2   region                54808 non-null  object \n",
            " 3   education             52399 non-null  object \n",
            " 4   gender                54808 non-null  object \n",
            " 5   recruitment_channel   54808 non-null  object \n",
            " 6   no_of_trainings       54808 non-null  int64  \n",
            " 7   age                   54808 non-null  int64  \n",
            " 8   previous_year_rating  50684 non-null  float64\n",
            " 9   length_of_service     54808 non-null  int64  \n",
            " 10  KPIs_met >80%         54808 non-null  int64  \n",
            " 11  awards_won?           54808 non-null  int64  \n",
            " 12  avg_training_score    54808 non-null  int64  \n",
            " 13  is_promoted           54808 non-null  int64  \n",
            "dtypes: float64(1), int64(8), object(5)\n",
            "memory usage: 5.9+ MB\n"
          ]
        }
      ],
      "source": [
        "#Dataframe Information\n",
        "df.info()"
      ]
    },
    {
      "cell_type": "code",
      "execution_count": null,
      "metadata": {
        "colab": {
          "base_uri": "https://localhost:8080/"
        },
        "id": "h9t4RTs-gL4b",
        "outputId": "843889cb-bf97-432a-b71f-0531d1d91ff0"
      },
      "outputs": [
        {
          "output_type": "execute_result",
          "data": {
            "text/plain": [
              "employee_id                0\n",
              "department                 0\n",
              "region                     0\n",
              "education               2409\n",
              "gender                     0\n",
              "recruitment_channel        0\n",
              "no_of_trainings            0\n",
              "age                        0\n",
              "previous_year_rating    4124\n",
              "length_of_service          0\n",
              "KPIs_met >80%              0\n",
              "awards_won?                0\n",
              "avg_training_score         0\n",
              "is_promoted                0\n",
              "dtype: int64"
            ]
          },
          "metadata": {},
          "execution_count": 48
        }
      ],
      "source": [
        "#Checking the null values\n",
        "df.isna().sum()"
      ]
    },
    {
      "cell_type": "code",
      "execution_count": null,
      "metadata": {
        "colab": {
          "base_uri": "https://localhost:8080/",
          "height": 331
        },
        "id": "Du-dSgfwgQPL",
        "outputId": "60039012-3fdd-40e5-f21e-3dd08d9d377b"
      },
      "outputs": [
        {
          "output_type": "execute_result",
          "data": {
            "text/plain": [
              "                        count          mean           std   min       25%  \\\n",
              "employee_id           54808.0  39195.830627  22586.581449   1.0  19669.75   \n",
              "no_of_trainings       54808.0      1.253011      0.609264   1.0      1.00   \n",
              "age                   54808.0     34.803915      7.660169  20.0     29.00   \n",
              "previous_year_rating  50684.0      3.329256      1.259993   1.0      3.00   \n",
              "length_of_service     54808.0      5.865512      4.265094   1.0      3.00   \n",
              "KPIs_met >80%         54808.0      0.351974      0.477590   0.0      0.00   \n",
              "awards_won?           54808.0      0.023172      0.150450   0.0      0.00   \n",
              "avg_training_score    54808.0     63.386750     13.371559  39.0     51.00   \n",
              "is_promoted           54808.0      0.085170      0.279137   0.0      0.00   \n",
              "\n",
              "                          50%      75%      max  \n",
              "employee_id           39225.5  58730.5  78298.0  \n",
              "no_of_trainings           1.0      1.0     10.0  \n",
              "age                      33.0     39.0     60.0  \n",
              "previous_year_rating      3.0      4.0      5.0  \n",
              "length_of_service         5.0      7.0     37.0  \n",
              "KPIs_met >80%             0.0      1.0      1.0  \n",
              "awards_won?               0.0      0.0      1.0  \n",
              "avg_training_score       60.0     76.0     99.0  \n",
              "is_promoted               0.0      0.0      1.0  "
            ],
            "text/html": [
              "\n",
              "  <div id=\"df-f5431c80-0174-4677-b73a-4476731f3741\">\n",
              "    <div class=\"colab-df-container\">\n",
              "      <div>\n",
              "<style scoped>\n",
              "    .dataframe tbody tr th:only-of-type {\n",
              "        vertical-align: middle;\n",
              "    }\n",
              "\n",
              "    .dataframe tbody tr th {\n",
              "        vertical-align: top;\n",
              "    }\n",
              "\n",
              "    .dataframe thead th {\n",
              "        text-align: right;\n",
              "    }\n",
              "</style>\n",
              "<table border=\"1\" class=\"dataframe\">\n",
              "  <thead>\n",
              "    <tr style=\"text-align: right;\">\n",
              "      <th></th>\n",
              "      <th>count</th>\n",
              "      <th>mean</th>\n",
              "      <th>std</th>\n",
              "      <th>min</th>\n",
              "      <th>25%</th>\n",
              "      <th>50%</th>\n",
              "      <th>75%</th>\n",
              "      <th>max</th>\n",
              "    </tr>\n",
              "  </thead>\n",
              "  <tbody>\n",
              "    <tr>\n",
              "      <th>employee_id</th>\n",
              "      <td>54808.0</td>\n",
              "      <td>39195.830627</td>\n",
              "      <td>22586.581449</td>\n",
              "      <td>1.0</td>\n",
              "      <td>19669.75</td>\n",
              "      <td>39225.5</td>\n",
              "      <td>58730.5</td>\n",
              "      <td>78298.0</td>\n",
              "    </tr>\n",
              "    <tr>\n",
              "      <th>no_of_trainings</th>\n",
              "      <td>54808.0</td>\n",
              "      <td>1.253011</td>\n",
              "      <td>0.609264</td>\n",
              "      <td>1.0</td>\n",
              "      <td>1.00</td>\n",
              "      <td>1.0</td>\n",
              "      <td>1.0</td>\n",
              "      <td>10.0</td>\n",
              "    </tr>\n",
              "    <tr>\n",
              "      <th>age</th>\n",
              "      <td>54808.0</td>\n",
              "      <td>34.803915</td>\n",
              "      <td>7.660169</td>\n",
              "      <td>20.0</td>\n",
              "      <td>29.00</td>\n",
              "      <td>33.0</td>\n",
              "      <td>39.0</td>\n",
              "      <td>60.0</td>\n",
              "    </tr>\n",
              "    <tr>\n",
              "      <th>previous_year_rating</th>\n",
              "      <td>50684.0</td>\n",
              "      <td>3.329256</td>\n",
              "      <td>1.259993</td>\n",
              "      <td>1.0</td>\n",
              "      <td>3.00</td>\n",
              "      <td>3.0</td>\n",
              "      <td>4.0</td>\n",
              "      <td>5.0</td>\n",
              "    </tr>\n",
              "    <tr>\n",
              "      <th>length_of_service</th>\n",
              "      <td>54808.0</td>\n",
              "      <td>5.865512</td>\n",
              "      <td>4.265094</td>\n",
              "      <td>1.0</td>\n",
              "      <td>3.00</td>\n",
              "      <td>5.0</td>\n",
              "      <td>7.0</td>\n",
              "      <td>37.0</td>\n",
              "    </tr>\n",
              "    <tr>\n",
              "      <th>KPIs_met &gt;80%</th>\n",
              "      <td>54808.0</td>\n",
              "      <td>0.351974</td>\n",
              "      <td>0.477590</td>\n",
              "      <td>0.0</td>\n",
              "      <td>0.00</td>\n",
              "      <td>0.0</td>\n",
              "      <td>1.0</td>\n",
              "      <td>1.0</td>\n",
              "    </tr>\n",
              "    <tr>\n",
              "      <th>awards_won?</th>\n",
              "      <td>54808.0</td>\n",
              "      <td>0.023172</td>\n",
              "      <td>0.150450</td>\n",
              "      <td>0.0</td>\n",
              "      <td>0.00</td>\n",
              "      <td>0.0</td>\n",
              "      <td>0.0</td>\n",
              "      <td>1.0</td>\n",
              "    </tr>\n",
              "    <tr>\n",
              "      <th>avg_training_score</th>\n",
              "      <td>54808.0</td>\n",
              "      <td>63.386750</td>\n",
              "      <td>13.371559</td>\n",
              "      <td>39.0</td>\n",
              "      <td>51.00</td>\n",
              "      <td>60.0</td>\n",
              "      <td>76.0</td>\n",
              "      <td>99.0</td>\n",
              "    </tr>\n",
              "    <tr>\n",
              "      <th>is_promoted</th>\n",
              "      <td>54808.0</td>\n",
              "      <td>0.085170</td>\n",
              "      <td>0.279137</td>\n",
              "      <td>0.0</td>\n",
              "      <td>0.00</td>\n",
              "      <td>0.0</td>\n",
              "      <td>0.0</td>\n",
              "      <td>1.0</td>\n",
              "    </tr>\n",
              "  </tbody>\n",
              "</table>\n",
              "</div>\n",
              "      <button class=\"colab-df-convert\" onclick=\"convertToInteractive('df-f5431c80-0174-4677-b73a-4476731f3741')\"\n",
              "              title=\"Convert this dataframe to an interactive table.\"\n",
              "              style=\"display:none;\">\n",
              "        \n",
              "  <svg xmlns=\"http://www.w3.org/2000/svg\" height=\"24px\"viewBox=\"0 0 24 24\"\n",
              "       width=\"24px\">\n",
              "    <path d=\"M0 0h24v24H0V0z\" fill=\"none\"/>\n",
              "    <path d=\"M18.56 5.44l.94 2.06.94-2.06 2.06-.94-2.06-.94-.94-2.06-.94 2.06-2.06.94zm-11 1L8.5 8.5l.94-2.06 2.06-.94-2.06-.94L8.5 2.5l-.94 2.06-2.06.94zm10 10l.94 2.06.94-2.06 2.06-.94-2.06-.94-.94-2.06-.94 2.06-2.06.94z\"/><path d=\"M17.41 7.96l-1.37-1.37c-.4-.4-.92-.59-1.43-.59-.52 0-1.04.2-1.43.59L10.3 9.45l-7.72 7.72c-.78.78-.78 2.05 0 2.83L4 21.41c.39.39.9.59 1.41.59.51 0 1.02-.2 1.41-.59l7.78-7.78 2.81-2.81c.8-.78.8-2.07 0-2.86zM5.41 20L4 18.59l7.72-7.72 1.47 1.35L5.41 20z\"/>\n",
              "  </svg>\n",
              "      </button>\n",
              "      \n",
              "  <style>\n",
              "    .colab-df-container {\n",
              "      display:flex;\n",
              "      flex-wrap:wrap;\n",
              "      gap: 12px;\n",
              "    }\n",
              "\n",
              "    .colab-df-convert {\n",
              "      background-color: #E8F0FE;\n",
              "      border: none;\n",
              "      border-radius: 50%;\n",
              "      cursor: pointer;\n",
              "      display: none;\n",
              "      fill: #1967D2;\n",
              "      height: 32px;\n",
              "      padding: 0 0 0 0;\n",
              "      width: 32px;\n",
              "    }\n",
              "\n",
              "    .colab-df-convert:hover {\n",
              "      background-color: #E2EBFA;\n",
              "      box-shadow: 0px 1px 2px rgba(60, 64, 67, 0.3), 0px 1px 3px 1px rgba(60, 64, 67, 0.15);\n",
              "      fill: #174EA6;\n",
              "    }\n",
              "\n",
              "    [theme=dark] .colab-df-convert {\n",
              "      background-color: #3B4455;\n",
              "      fill: #D2E3FC;\n",
              "    }\n",
              "\n",
              "    [theme=dark] .colab-df-convert:hover {\n",
              "      background-color: #434B5C;\n",
              "      box-shadow: 0px 1px 3px 1px rgba(0, 0, 0, 0.15);\n",
              "      filter: drop-shadow(0px 1px 2px rgba(0, 0, 0, 0.3));\n",
              "      fill: #FFFFFF;\n",
              "    }\n",
              "  </style>\n",
              "\n",
              "      <script>\n",
              "        const buttonEl =\n",
              "          document.querySelector('#df-f5431c80-0174-4677-b73a-4476731f3741 button.colab-df-convert');\n",
              "        buttonEl.style.display =\n",
              "          google.colab.kernel.accessAllowed ? 'block' : 'none';\n",
              "\n",
              "        async function convertToInteractive(key) {\n",
              "          const element = document.querySelector('#df-f5431c80-0174-4677-b73a-4476731f3741');\n",
              "          const dataTable =\n",
              "            await google.colab.kernel.invokeFunction('convertToInteractive',\n",
              "                                                     [key], {});\n",
              "          if (!dataTable) return;\n",
              "\n",
              "          const docLinkHtml = 'Like what you see? Visit the ' +\n",
              "            '<a target=\"_blank\" href=https://colab.research.google.com/notebooks/data_table.ipynb>data table notebook</a>'\n",
              "            + ' to learn more about interactive tables.';\n",
              "          element.innerHTML = '';\n",
              "          dataTable['output_type'] = 'display_data';\n",
              "          await google.colab.output.renderOutput(dataTable, element);\n",
              "          const docLink = document.createElement('div');\n",
              "          docLink.innerHTML = docLinkHtml;\n",
              "          element.appendChild(docLink);\n",
              "        }\n",
              "      </script>\n",
              "    </div>\n",
              "  </div>\n",
              "  "
            ]
          },
          "metadata": {},
          "execution_count": 49
        }
      ],
      "source": [
        "#Describe the data\n",
        "df.describe().T"
      ]
    },
    {
      "cell_type": "code",
      "execution_count": null,
      "metadata": {
        "colab": {
          "base_uri": "https://localhost:8080/"
        },
        "id": "WPEfCNvcgVk6",
        "outputId": "6e105b0a-f176-4bde-c77b-0595fbac875f"
      },
      "outputs": [
        {
          "output_type": "execute_result",
          "data": {
            "text/plain": [
              "employee_id             0.001206\n",
              "no_of_trainings        -0.024896\n",
              "age                    -0.017166\n",
              "previous_year_rating    0.159320\n",
              "length_of_service      -0.010670\n",
              "KPIs_met >80%           0.221582\n",
              "awards_won?             0.195871\n",
              "avg_training_score      0.181147\n",
              "is_promoted             1.000000\n",
              "Name: is_promoted, dtype: float64"
            ]
          },
          "metadata": {},
          "execution_count": 50
        }
      ],
      "source": [
        "#Correlation on dataset\n",
        "df.corr()[\"is_promoted\"]"
      ]
    },
    {
      "cell_type": "code",
      "execution_count": null,
      "metadata": {
        "colab": {
          "base_uri": "https://localhost:8080/",
          "height": 485
        },
        "id": "r4STL0sagbou",
        "outputId": "abcbf16b-a418-4de9-991f-bb4a8fdc56ea"
      },
      "outputs": [
        {
          "output_type": "display_data",
          "data": {
            "text/plain": [
              "<Figure size 432x432 with 2 Axes>"
            ],
            "image/png": "[encoded data removed]"
          },
          "metadata": {
            "needs_background": "light"
          }
        }
      ],
      "source": [
        "#Correlation using heatmap\n",
        "\n",
        "plt.figure(figsize=(6,6))\n",
        "sns.heatmap(df.corr(),annot=True,cmap=\"YlGnBu\")\n",
        "plt.title(\"Correlation Plot-Heat Map\")\n",
        "plt.show()"
      ]
    },
    {
      "cell_type": "code",
      "execution_count": null,
      "metadata": {
        "id": "NCgLlFs-ghFW"
      },
      "outputs": [],
      "source": [
        "#Pairplot usingn sns\n",
        "# sns.pairplot(df,hue=\"is_promoted\")\n",
        "# plt.show()"
      ]
    },
    {
      "cell_type": "markdown",
      "metadata": {
        "id": "7gJK8nqihvlY"
      },
      "source": [
        "##Missing Value Treatment"
      ]
    },
    {
      "cell_type": "code",
      "execution_count": null,
      "metadata": {
        "id": "CQkVTqn3goCD"
      },
      "outputs": [],
      "source": [
        "def impute_nan(data,column,median):\n",
        "    data[column+\"_random\"]=data[column]\n",
        "    random_sample = data[column].dropna().sample(data[column].isnull().sum(),random_state=0)\n",
        "    random_sample.index=data[data[column].isnull()].index\n",
        "    data.loc[data[column].isnull(),column+'_random']=random_sample\n",
        "    data[column]=data[column+\"_random\"]\n",
        "    data.drop([column+\"_random\"],axis=1,inplace=True)"
      ]
    },
    {
      "cell_type": "code",
      "execution_count": null,
      "metadata": {
        "colab": {
          "base_uri": "https://localhost:8080/"
        },
        "id": "itL-3AIlh7mK",
        "outputId": "585d6492-daf0-4929-cc10-fc9e9477287e"
      },
      "outputs": [
        {
          "output_type": "stream",
          "name": "stdout",
          "text": [
            "employee_id                0\n",
            "department                 0\n",
            "region                     0\n",
            "education               2409\n",
            "gender                     0\n",
            "recruitment_channel        0\n",
            "no_of_trainings            0\n",
            "age                        0\n",
            "previous_year_rating       0\n",
            "length_of_service          0\n",
            "KPIs_met >80%              0\n",
            "awards_won?                0\n",
            "avg_training_score         0\n",
            "is_promoted                0\n",
            "dtype: int64\n"
          ]
        }
      ],
      "source": [
        "impute_nan(df,column=(\"previous_year_rating\"),median=0)\n",
        "print(df.isna().sum())"
      ]
    },
    {
      "cell_type": "code",
      "execution_count": null,
      "metadata": {
        "colab": {
          "base_uri": "https://localhost:8080/"
        },
        "id": "o0edZidIiAFH",
        "outputId": "56b8a5f0-9c17-4d82-86bd-664dd66b9cda"
      },
      "outputs": [
        {
          "output_type": "execute_result",
          "data": {
            "text/plain": [
              "Bachelor's          36669\n",
              "Master's & above    14925\n",
              "Below Secondary       805\n",
              "Name: education, dtype: int64"
            ]
          },
          "metadata": {},
          "execution_count": 89
        }
      ],
      "source": [
        "df[\"education\"].value_counts()"
      ]
    },
    {
      "cell_type": "code",
      "execution_count": null,
      "metadata": {
        "colab": {
          "base_uri": "https://localhost:8080/"
        },
        "id": "QUKY6dCMiJgg",
        "outputId": "09d18ccf-dd74-437f-e606-55412c15cafd"
      },
      "outputs": [
        {
          "output_type": "stream",
          "name": "stdout",
          "text": [
            "employee_id             0\n",
            "department              0\n",
            "region                  0\n",
            "education               0\n",
            "gender                  0\n",
            "recruitment_channel     0\n",
            "no_of_trainings         0\n",
            "age                     0\n",
            "previous_year_rating    0\n",
            "length_of_service       0\n",
            "KPIs_met >80%           0\n",
            "awards_won?             0\n",
            "avg_training_score      0\n",
            "is_promoted             0\n",
            "dtype: int64\n"
          ]
        }
      ],
      "source": [
        "df[\"education\"].fillna(df[\"education\"].mode()[0],inplace=True)\n",
        "print(df.isna().sum())"
      ]
    },
    {
      "cell_type": "markdown",
      "metadata": {
        "id": "Si_NqW3tiXCg"
      },
      "source": [
        "##Outlier Treatment"
      ]
    },
    {
      "cell_type": "code",
      "execution_count": null,
      "metadata": {
        "colab": {
          "base_uri": "https://localhost:8080/",
          "height": 1000
        },
        "id": "cb3wyzWziPw6",
        "outputId": "5418d975-c6c1-4a20-9946-c83089c723ae"
      },
      "outputs": [
        {
          "output_type": "stream",
          "name": "stdout",
          "text": [
            "The employee_id is int64\n"
          ]
        },
        {
          "output_type": "display_data",
          "data": {
            "text/plain": [
              "<Figure size 720x72 with 1 Axes>"
            ],
            "image/png": "[encoded data removed]"
          },
          "metadata": {
            "needs_background": "light"
          }
        },
        {
          "output_type": "stream",
          "name": "stdout",
          "text": [
            "department is an object\n"
          ]
        },
        {
          "output_type": "display_data",
          "data": {
            "text/plain": [
              "<Figure size 720x72 with 0 Axes>"
            ]
          },
          "metadata": {}
        },
        {
          "output_type": "stream",
          "name": "stdout",
          "text": [
            "region is an object\n"
          ]
        },
        {
          "output_type": "display_data",
          "data": {
            "text/plain": [
              "<Figure size 720x72 with 0 Axes>"
            ]
          },
          "metadata": {}
        },
        {
          "output_type": "stream",
          "name": "stdout",
          "text": [
            "education is an object\n"
          ]
        },
        {
          "output_type": "display_data",
          "data": {
            "text/plain": [
              "<Figure size 720x72 with 0 Axes>"
            ]
          },
          "metadata": {}
        },
        {
          "output_type": "stream",
          "name": "stdout",
          "text": [
            "gender is an object\n"
          ]
        },
        {
          "output_type": "display_data",
          "data": {
            "text/plain": [
              "<Figure size 720x72 with 0 Axes>"
            ]
          },
          "metadata": {}
        },
        {
          "output_type": "stream",
          "name": "stdout",
          "text": [
            "recruitment_channel is an object\n"
          ]
        },
        {
          "output_type": "display_data",
          "data": {
            "text/plain": [
              "<Figure size 720x72 with 0 Axes>"
            ]
          },
          "metadata": {}
        },
        {
          "output_type": "stream",
          "name": "stdout",
          "text": [
            "The no_of_trainings is int64\n"
          ]
        },
        {
          "output_type": "display_data",
          "data": {
            "text/plain": [
              "<Figure size 720x72 with 1 Axes>"
            ],
            "image/png": "[encoded data removed]"
          },
          "metadata": {
            "needs_background": "light"
          }
        },
        {
          "output_type": "stream",
          "name": "stdout",
          "text": [
            "The age is int64\n"
          ]
        },
        {
          "output_type": "display_data",
          "data": {
            "text/plain": [
              "<Figure size 720x72 with 1 Axes>"
            ],
            "image/png": "[encoded data removed]"
          },
          "metadata": {
            "needs_background": "light"
          }
        },
        {
          "output_type": "stream",
          "name": "stdout",
          "text": [
            "The previous_year_rating is float64\n"
          ]
        },
        {
          "output_type": "display_data",
          "data": {
            "text/plain": [
              "<Figure size 720x72 with 1 Axes>"
            ],
            "image/png": "[encoded data removed]"
          },
          "metadata": {
            "needs_background": "light"
          }
        },
        {
          "output_type": "stream",
          "name": "stdout",
          "text": [
            "The length_of_service is int64\n"
          ]
        },
        {
          "output_type": "display_data",
          "data": {
            "text/plain": [
              "<Figure size 720x72 with 1 Axes>"
            ],
            "image/png": "[encoded data removed]"
          },
          "metadata": {
            "needs_background": "light"
          }
        },
        {
          "output_type": "stream",
          "name": "stdout",
          "text": [
            "The KPIs_met >80% is int64\n"
          ]
        },
        {
          "output_type": "display_data",
          "data": {
            "text/plain": [
              "<Figure size 720x72 with 1 Axes>"
            ],
            "image/png": "[encoded data removed]"
          },
          "metadata": {
            "needs_background": "light"
          }
        },
        {
          "output_type": "stream",
          "name": "stdout",
          "text": [
            "The awards_won? is int64\n"
          ]
        },
        {
          "output_type": "display_data",
          "data": {
            "text/plain": [
              "<Figure size 720x72 with 1 Axes>"
            ],
            "image/png": "[encoded data removed]"
          },
          "metadata": {
            "needs_background": "light"
          }
        },
        {
          "output_type": "stream",
          "name": "stdout",
          "text": [
            "The avg_training_score is int64\n"
          ]
        },
        {
          "output_type": "display_data",
          "data": {
            "text/plain": [
              "<Figure size 720x72 with 1 Axes>"
            ],
            "image/png": "[encoded data removed]"
          },
          "metadata": {
            "needs_background": "light"
          }
        },
        {
          "output_type": "stream",
          "name": "stdout",
          "text": [
            "The is_promoted is int64\n"
          ]
        },
        {
          "output_type": "display_data",
          "data": {
            "text/plain": [
              "<Figure size 720x72 with 1 Axes>"
            ],
            "image/png": "[encoded data removed]"
          },
          "metadata": {
            "needs_background": "light"
          }
        },
        {
          "output_type": "stream",
          "name": "stdout",
          "text": [
            "None\n"
          ]
        }
      ],
      "source": [
        "def boxplots(data):\n",
        "    for feature in data.columns:\n",
        "        plt.figure(figsize=(10,1))\n",
        "        if data[feature].dtype !='object':\n",
        "            sns.boxplot(data[feature],data=data)\n",
        "            print(\"The\",feature,\"is\",data[feature].dtype)\n",
        "            plt.show()\n",
        "        else:\n",
        "            print(feature,'is an object')\n",
        "            plt.show()\n",
        "print(boxplots(df))"
      ]
    },
    {
      "cell_type": "code",
      "execution_count": null,
      "metadata": {
        "colab": {
          "base_uri": "https://localhost:8080/"
        },
        "id": "PINhy3ALibV5",
        "outputId": "fc237fd1-e4b1-4594-f9b6-ba35914473d2"
      },
      "outputs": [
        {
          "output_type": "stream",
          "name": "stdout",
          "text": [
            "The numerical columns are: Index(['employee_id', 'no_of_trainings', 'age', 'previous_year_rating',\n",
            "       'length_of_service', 'KPIs_met >80%', 'awards_won?',\n",
            "       'avg_training_score', 'is_promoted'],\n",
            "      dtype='object')\n"
          ]
        }
      ],
      "source": [
        "numericalCol=df.select_dtypes(include=np.number).columns\n",
        "print(\"The numerical columns are:\",numericalCol)"
      ]
    },
    {
      "cell_type": "code",
      "execution_count": null,
      "metadata": {
        "colab": {
          "base_uri": "https://localhost:8080/"
        },
        "id": "NLhQNPyOinV9",
        "outputId": "f626b799-8d25-4265-bc37-e6ede53d8327"
      },
      "outputs": [
        {
          "output_type": "stream",
          "name": "stdout",
          "text": [
            "The object columns are: Index(['department', 'region', 'education', 'gender', 'recruitment_channel'], dtype='object')\n"
          ]
        }
      ],
      "source": [
        "objectCol=df.select_dtypes(include=np.object_).columns\n",
        "print(\"The object columns are:\",objectCol)"
      ]
    },
    {
      "cell_type": "code",
      "source": [
        "objectCol"
      ],
      "metadata": {
        "colab": {
          "base_uri": "https://localhost:8080/"
        },
        "id": "bijd4x7fEXsv",
        "outputId": "97278ffd-6ceb-4634-862f-9b8dea9cb5e0"
      },
      "execution_count": null,
      "outputs": [
        {
          "output_type": "execute_result",
          "data": {
            "text/plain": [
              "Index(['department', 'region', 'education', 'gender', 'recruitment_channel'], dtype='object')"
            ]
          },
          "metadata": {},
          "execution_count": 94
        }
      ]
    },
    {
      "cell_type": "code",
      "execution_count": null,
      "metadata": {
        "id": "0J1xCE8aivAV"
      },
      "outputs": [],
      "source": [
        "discretecol=[]\n",
        "continuecol=[]\n",
        "\n",
        "for i in numericalCol:\n",
        "    if df[i].nunique()>20:\n",
        "        discretecol.append(i)\n",
        "    else:\n",
        "        continuecol.append(i)"
      ]
    },
    {
      "cell_type": "code",
      "execution_count": null,
      "metadata": {
        "colab": {
          "base_uri": "https://localhost:8080/"
        },
        "id": "02yPujEhi1Sy",
        "outputId": "a310f346-33fc-42bb-f697-b841e6e92e96"
      },
      "outputs": [
        {
          "output_type": "stream",
          "name": "stdout",
          "text": [
            "The discrete columns are: ['employee_id', 'age', 'length_of_service', 'avg_training_score']\n",
            "\n",
            "The continuous columns are: ['no_of_trainings', 'previous_year_rating', 'KPIs_met >80%', 'awards_won?', 'is_promoted']\n"
          ]
        }
      ],
      "source": [
        "print(\"The discrete columns are:\",discretecol)\n",
        "print()\n",
        "print(\"The continuous columns are:\",continuecol)"
      ]
    },
    {
      "cell_type": "code",
      "execution_count": null,
      "metadata": {
        "colab": {
          "base_uri": "https://localhost:8080/"
        },
        "id": "_GwaALlii6NV",
        "outputId": "371f9af8-9bc5-45c9-f373-2532f64c01d3"
      },
      "outputs": [
        {
          "output_type": "stream",
          "name": "stdout",
          "text": [
            "       employee_id         department     region         education gender  \\\n",
            "0            65438  Sales & Marketing   region_7  Master's & above      f   \n",
            "1            65141         Operations  region_22        Bachelor's      m   \n",
            "2             7513  Sales & Marketing  region_19        Bachelor's      m   \n",
            "3             2542  Sales & Marketing  region_23        Bachelor's      m   \n",
            "4            48945         Technology  region_26        Bachelor's      m   \n",
            "...            ...                ...        ...               ...    ...   \n",
            "54803         3030         Technology  region_14        Bachelor's      m   \n",
            "54804        74592         Operations  region_27  Master's & above      f   \n",
            "54805        13918          Analytics   region_1        Bachelor's      m   \n",
            "54806        13614  Sales & Marketing   region_9        Bachelor's      m   \n",
            "54807        51526                 HR  region_22        Bachelor's      m   \n",
            "\n",
            "      recruitment_channel  no_of_trainings  age  previous_year_rating  \\\n",
            "0                sourcing              1.0   35                   5.0   \n",
            "1                   other              1.0   30                   5.0   \n",
            "2                sourcing              1.0   34                   3.0   \n",
            "3                   other              2.0   39                   1.0   \n",
            "4                   other              1.0   45                   3.0   \n",
            "...                   ...              ...  ...                   ...   \n",
            "54803            sourcing              1.0   48                   3.0   \n",
            "54804               other              1.0   37                   2.0   \n",
            "54805               other              1.0   27                   5.0   \n",
            "54806            sourcing              1.0   29                   1.0   \n",
            "54807               other              1.0   27                   1.0   \n",
            "\n",
            "       length_of_service  KPIs_met >80%  awards_won?  avg_training_score  \\\n",
            "0                      8            1.0          0.0                  49   \n",
            "1                      4            0.0          0.0                  60   \n",
            "2                      7            0.0          0.0                  50   \n",
            "3                     10            0.0          0.0                  50   \n",
            "4                      2            0.0          0.0                  73   \n",
            "...                  ...            ...          ...                 ...   \n",
            "54803                 17            0.0          0.0                  78   \n",
            "54804                  6            0.0          0.0                  56   \n",
            "54805                  3            1.0          0.0                  79   \n",
            "54806                  2            0.0          0.0                  45   \n",
            "54807                  5            0.0          0.0                  49   \n",
            "\n",
            "       is_promoted  \n",
            "0              0.0  \n",
            "1              0.0  \n",
            "2              0.0  \n",
            "3              0.0  \n",
            "4              0.0  \n",
            "...            ...  \n",
            "54803          0.0  \n",
            "54804          0.0  \n",
            "54805          0.0  \n",
            "54806          0.0  \n",
            "54807          0.0  \n",
            "\n",
            "[54808 rows x 14 columns]\n"
          ]
        }
      ],
      "source": [
        "for column in continuecol:\n",
        "    upperlimit=df[column].mean()+3*df[column].std()\n",
        "    lowerlimit=df[column].mean()-3*df[column].std()\n",
        "    df.loc[(df[column]>upperlimit),column]=upperlimit\n",
        "    df.loc[(df[column]<lowerlimit),column]=lowerlimit\n",
        "\n",
        "print(df[(df[column]<=upperlimit) & (df[column]>=lowerlimit)])"
      ]
    },
    {
      "cell_type": "code",
      "source": [
        ""
      ],
      "metadata": {
        "id": "OdQifiMWFaby"
      },
      "execution_count": null,
      "outputs": []
    },
    {
      "cell_type": "markdown",
      "metadata": {
        "id": "3u9BbzSykHG2"
      },
      "source": [
        "##Label Encoder"
      ]
    },
    {
      "cell_type": "code",
      "execution_count": null,
      "metadata": {
        "colab": {
          "base_uri": "https://localhost:8080/"
        },
        "id": "1F4DcH0EjeJj",
        "outputId": "10076a81-eaef-4e21-f93a-18f05afb01a2"
      },
      "outputs": [
        {
          "output_type": "stream",
          "name": "stdout",
          "text": [
            "       department  region  education  gender  recruitment_channel\n",
            "0               7      31          2       0                    2\n",
            "1               4      14          0       1                    0\n",
            "2               7      10          0       1                    2\n",
            "3               7      15          0       1                    0\n",
            "4               8      18          0       1                    0\n",
            "...           ...     ...        ...     ...                  ...\n",
            "54803           8       5          0       1                    2\n",
            "54804           4      19          2       0                    0\n",
            "54805           0       0          0       1                    0\n",
            "54806           7      33          0       1                    2\n",
            "54807           2      14          0       1                    0\n",
            "\n",
            "[54808 rows x 5 columns]\n"
          ]
        },
        {
          "output_type": "execute_result",
          "data": {
            "text/plain": [
              "['/content/drive/MyDrive/Luminar_Projects/HR_Analytics/labelencoder.pkl']"
            ]
          },
          "metadata": {},
          "execution_count": 101
        }
      ],
      "source": [
        "new_Df=df[objectCol]\n",
        "from sklearn.preprocessing import LabelEncoder\n",
        "le=LabelEncoder()\n",
        "from collections import defaultdict\n",
        "defaultEncoder=defaultdict(LabelEncoder)\n",
        "fitObjectDf=new_Df.apply(lambda x: defaultEncoder[x.name].fit_transform(x))\n",
        "print(fitObjectDf)\n",
        "\n",
        "import joblib\n",
        "joblib.dump(le,\"/content/drive/MyDrive/Luminar_Projects/HR_Analytics/labelencoder.pkl\")"
      ]
    },
    {
      "cell_type": "code",
      "execution_count": null,
      "metadata": {
        "colab": {
          "base_uri": "https://localhost:8080/"
        },
        "id": "IrKxKRhTkU8C",
        "outputId": "44d4b4a5-f4c1-4499-d854-dd797df77d87"
      },
      "outputs": [
        {
          "output_type": "stream",
          "name": "stdout",
          "text": [
            "       employee_id  no_of_trainings  age  previous_year_rating  \\\n",
            "0            65438              1.0   35                   5.0   \n",
            "1            65141              1.0   30                   5.0   \n",
            "2             7513              1.0   34                   3.0   \n",
            "3             2542              2.0   39                   1.0   \n",
            "4            48945              1.0   45                   3.0   \n",
            "...            ...              ...  ...                   ...   \n",
            "54803         3030              1.0   48                   3.0   \n",
            "54804        74592              1.0   37                   2.0   \n",
            "54805        13918              1.0   27                   5.0   \n",
            "54806        13614              1.0   29                   1.0   \n",
            "54807        51526              1.0   27                   1.0   \n",
            "\n",
            "       length_of_service  KPIs_met >80%  awards_won?  avg_training_score  \\\n",
            "0                      8            1.0          0.0                  49   \n",
            "1                      4            0.0          0.0                  60   \n",
            "2                      7            0.0          0.0                  50   \n",
            "3                     10            0.0          0.0                  50   \n",
            "4                      2            0.0          0.0                  73   \n",
            "...                  ...            ...          ...                 ...   \n",
            "54803                 17            0.0          0.0                  78   \n",
            "54804                  6            0.0          0.0                  56   \n",
            "54805                  3            1.0          0.0                  79   \n",
            "54806                  2            0.0          0.0                  45   \n",
            "54807                  5            0.0          0.0                  49   \n",
            "\n",
            "       is_promoted  department  region  education  gender  recruitment_channel  \n",
            "0              0.0           7      31          2       0                    2  \n",
            "1              0.0           4      14          0       1                    0  \n",
            "2              0.0           7      10          0       1                    2  \n",
            "3              0.0           7      15          0       1                    0  \n",
            "4              0.0           8      18          0       1                    0  \n",
            "...            ...         ...     ...        ...     ...                  ...  \n",
            "54803          0.0           8       5          0       1                    2  \n",
            "54804          0.0           4      19          2       0                    0  \n",
            "54805          0.0           0       0          0       1                    0  \n",
            "54806          0.0           7      33          0       1                    2  \n",
            "54807          0.0           2      14          0       1                    0  \n",
            "\n",
            "[54808 rows x 14 columns]\n"
          ]
        }
      ],
      "source": [
        "df.drop(objectCol,axis=1,inplace=True)\n",
        "updatedtrain_df=pd.concat([df,fitObjectDf],axis=1)\n",
        "print(updatedtrain_df)"
      ]
    },
    {
      "cell_type": "markdown",
      "metadata": {
        "id": "_-gAQK0JmssO"
      },
      "source": [
        "##Train Test Split"
      ]
    },
    {
      "cell_type": "code",
      "execution_count": null,
      "metadata": {
        "id": "34I0WHZykito"
      },
      "outputs": [],
      "source": [
        "X=df.drop(\"is_promoted\",axis=1)\n",
        "y=df[\"is_promoted\"]\n",
        "lab = preprocessing.LabelEncoder()\n",
        "y_transformed = lab.fit_transform(y)\n",
        "X_train,X_test,y_train,y_test=train_test_split(X,y_transformed,test_size=0.3,random_state=42)"
      ]
    },
    {
      "cell_type": "markdown",
      "metadata": {
        "id": "zmrCaQvem0ct"
      },
      "source": [
        "##Scale Down"
      ]
    },
    {
      "cell_type": "code",
      "execution_count": null,
      "metadata": {
        "id": "AABBmosemya3",
        "colab": {
          "base_uri": "https://localhost:8080/"
        },
        "outputId": "e41f402a-f39a-4887-dfb3-25baf68e3766"
      },
      "outputs": [
        {
          "output_type": "execute_result",
          "data": {
            "text/plain": [
              "['/content/drive/MyDrive/Luminar_Projects/HR_Analytics/scale.pkl']"
            ]
          },
          "metadata": {},
          "execution_count": 81
        }
      ],
      "source": [
        "scaler=StandardScaler()\n",
        "X_train_scaled=scaler.fit_transform(X_train)\n",
        "X_test_scaled=scaler.transform(X_test)\n",
        "\n",
        "import joblib\n",
        "joblib.dump(scaler,\"/content/drive/MyDrive/Luminar_Projects/HR_Analytics/scale.pkl\")"
      ]
    },
    {
      "cell_type": "markdown",
      "metadata": {
        "id": "AJvYwJmNm474"
      },
      "source": [
        "##Applying All Algorithms"
      ]
    },
    {
      "cell_type": "code",
      "execution_count": null,
      "metadata": {
        "colab": {
          "base_uri": "https://localhost:8080/"
        },
        "id": "2_uS14P7m2p3",
        "outputId": "f0c2c458-f4e3-4977-f8d6-e6ff85824c68"
      },
      "outputs": [
        {
          "output_type": "execute_result",
          "data": {
            "text/plain": [
              "VotingClassifier(estimators=[('Logistic Regression', LogisticRegression()),\n",
              "                             ('Decision Tree', DecisionTreeClassifier()),\n",
              "                             ('Random Forest', RandomForestClassifier()),\n",
              "                             ('AdaBoost Classifier', AdaBoostClassifier()),\n",
              "                             ('Gradientboost Classifier',\n",
              "                              GradientBoostingClassifier()),\n",
              "                             ('SVC', SVC())])"
            ]
          },
          "metadata": {},
          "execution_count": 75
        }
      ],
      "source": [
        "lr_clf=LogisticRegression()\n",
        "dr_clf=DecisionTreeClassifier()\n",
        "rf_clf=RandomForestClassifier()\n",
        "adboost_clf=AdaBoostClassifier()\n",
        "gradboost_clf=GradientBoostingClassifier()\n",
        "svc_clf=SVC()\n",
        "\n",
        "voting=VotingClassifier(estimators=[(\"Logistic Regression\",lr_clf),(\"Decision Tree\",dr_clf),\n",
        "                             (\"Random Forest\",rf_clf),(\"AdaBoost Classifier\",adboost_clf),\n",
        "                             (\"Gradientboost Classifier\",gradboost_clf),(\"SVC\",svc_clf)],voting=\"hard\")\n",
        "\n",
        "voting.fit(X_train,y_train)"
      ]
    },
    {
      "cell_type": "code",
      "execution_count": null,
      "metadata": {
        "colab": {
          "base_uri": "https://localhost:8080/"
        },
        "id": "eDGAboVrm7Q0",
        "outputId": "5f423ec3-5c8b-48d6-f9cb-227c2ef30d9e"
      },
      "outputs": [
        {
          "output_type": "stream",
          "name": "stdout",
          "text": [
            "LogisticRegression 0.9130718102437118\n",
            "LogisticRegression 0.9189320683573557\n",
            "*****\n",
            "DecisionTreeClassifier 1.0\n",
            "DecisionTreeClassifier 0.8701575138356747\n",
            "*****\n",
            "RandomForestClassifier 0.9999218037273556\n",
            "RandomForestClassifier 0.9254393967037645\n",
            "*****\n",
            "AdaBoostClassifier 0.9190929232373257\n",
            "AdaBoostClassifier 0.9253177643982242\n",
            "*****\n",
            "GradientBoostingClassifier 0.9245666623224293\n",
            "GradientBoostingClassifier 0.9289667335644347\n",
            "*****\n",
            "SVC 0.9130718102437118\n",
            "SVC 0.9189320683573557\n",
            "*****\n"
          ]
        }
      ],
      "source": [
        "for clf in (lr_clf,dr_clf,rf_clf,adboost_clf,gradboost_clf,svc_clf):\n",
        "  clf.fit(X_train,y_train)\n",
        "  y_pred=clf.predict(X_test)\n",
        "  print(clf.__class__.__name__,clf.score(X_train,y_train))\n",
        "  print(clf.__class__.__name__,accuracy_score(y_test, y_pred))\n",
        "  print(\"*****\")"
      ]
    },
    {
      "cell_type": "code",
      "execution_count": null,
      "metadata": {
        "id": "-T_Y1LAwJb31"
      },
      "outputs": [],
      "source": [
        "from sklearn.model_selection import GridSearchCV\n",
        "lr_clf = LogisticRegression()\n",
        "df_clf= DecisionTreeClassifier()\n",
        "rf_clf= RandomForestClassifier()\n",
        "adboost_clf= AdaBoostClassifier()\n",
        "grad_clf=GradientBoostingClassifier()\n",
        "svc_clf=SVC()\n",
        "\n",
        "clf_list=[lr_clf,df_clf,rf_clf,adboost_clf,grad_clf,svc_clf]\n",
        "\n",
        "grid_params_lr= [{'penalty':['l1','l2'],'solver':['saga']}]\n",
        "\n",
        "grid_params_df =[{'criterion':[\"gini\",\"entropy\"], 'splitter':['best','random'],'max_depth':[3,4,5],'min_samples_split':[2,3,4],'max_features':[\"auto\",\"sqrt\",\"log2\"]}]\n",
        "\n",
        "grid_params_rf=[{'n_estimators': [4, 6, 9], 'max_features': ['log2', 'sqrt','auto'], 'criterion': ['entropy', 'gini'],'max_depth': [2, 3, 5, 10]}]\n",
        "\n",
        "grid_params_adboost=[{'n_estimators':[10,50,250,1000],'learning_rate':[0.01,0.1],}]\n",
        "\n",
        "grid_params_grad=[{'loss':['log_loss', 'deviance', 'exponential'],'learning_rate':[1,7,9],'criterion':['friedman_mse','mse']}]\n",
        "\n",
        "grid_params_svc=[{'kernel':['linear','poly','rbf'],'degree':[3,4,5]}]\n",
        "\n",
        "\n",
        "\n",
        "\n",
        "clf_params=[grid_params_lr,grid_params_df,grid_params_rf,grid_params_adboost,grid_params_grad,grid_params_svc]"
      ]
    },
    {
      "cell_type": "code",
      "execution_count": null,
      "metadata": {
        "colab": {
          "base_uri": "https://localhost:8080/"
        },
        "id": "YMCoaPd-JsV8",
        "outputId": "4e57d17a-29d3-4da8-8068-c8a1615f51ff"
      },
      "outputs": [
        {
          "output_type": "stream",
          "name": "stdout",
          "text": [
            "The Classifier is LogisticRegression() and its hyper params are [{'penalty': ['l1', 'l2'], 'solver': ['saga']}]\n",
            "The Train accuracy for the LogisticRegression() is 0.9147921282418872\n",
            "The Test accuracy for the LogisticRegression() is 0.9205132883293803\n",
            "The Best param for the LogisticRegression() is {'penalty': 'l1', 'solver': 'saga'}\n",
            "====================\n",
            "\n",
            "The Classifier is DecisionTreeClassifier() and its hyper params are [{'criterion': ['gini', 'entropy'], 'splitter': ['best', 'random'], 'max_depth': [3, 4, 5], 'min_samples_split': [2, 3, 4], 'max_features': ['auto', 'sqrt', 'log2']}]\n",
            "The Train accuracy for the DecisionTreeClassifier() is 0.9203961944480646\n",
            "The Test accuracy for the DecisionTreeClassifier() is 0.9249528674816031\n",
            "The Best param for the DecisionTreeClassifier() is {'criterion': 'gini', 'max_depth': 5, 'max_features': 'log2', 'min_samples_split': 2, 'splitter': 'best'}\n",
            "====================\n",
            "\n",
            "The Classifier is RandomForestClassifier() and its hyper params are [{'n_estimators': [4, 6, 9], 'max_features': ['log2', 'sqrt', 'auto'], 'criterion': ['entropy', 'gini'], 'max_depth': [2, 3, 5, 10]}]\n",
            "The Train accuracy for the RandomForestClassifier() is 0.9267561579564707\n",
            "The Test accuracy for the RandomForestClassifier() is 0.9285410204950435\n",
            "The Best param for the RandomForestClassifier() is {'criterion': 'entropy', 'max_depth': 10, 'max_features': 'auto', 'n_estimators': 9}\n",
            "====================\n",
            "\n",
            "The Classifier is AdaBoostClassifier() and its hyper params are [{'n_estimators': [10, 50, 250, 1000], 'learning_rate': [0.01, 0.1]}]\n",
            "The Train accuracy for the AdaBoostClassifier() is 0.9210999609018636\n",
            "The Test accuracy for the AdaBoostClassifier() is 0.9267773520647083\n",
            "The Best param for the AdaBoostClassifier() is {'learning_rate': 0.01, 'n_estimators': 1000}\n",
            "====================\n",
            "\n",
            "The Classifier is GradientBoostingClassifier() and its hyper params are [{'loss': ['log_loss', 'deviance', 'exponential'], 'learning_rate': [1, 7, 9], 'criterion': ['friedman_mse', 'mse']}]\n",
            "The Train accuracy for the GradientBoostingClassifier() is 0.9267040271080412\n",
            "The Test accuracy for the GradientBoostingClassifier() is 0.9264124551480873\n",
            "The Best param for the GradientBoostingClassifier() is {'criterion': 'friedman_mse', 'learning_rate': 1, 'loss': 'exponential'}\n",
            "====================\n",
            "\n",
            "The Classifier is SVC() and its hyper params are [{'kernel': ['linear', 'poly', 'rbf'], 'degree': [3, 4, 5]}]\n",
            "The Train accuracy for the SVC() is 0.9243060080802815\n",
            "The Test accuracy for the SVC() is 0.9248920513288329\n",
            "The Best param for the SVC() is {'degree': 5, 'kernel': 'poly'}\n",
            "====================\n",
            "\n"
          ]
        }
      ],
      "source": [
        "for clf,clf_param in zip(clf_list,clf_params):\n",
        "  print(f\"The Classifier is {clf} and its hyper params are {clf_param}\")\n",
        "\n",
        "  grid_clf = GridSearchCV(estimator=clf,param_grid=clf_param,scoring=\"accuracy\",cv=10)\n",
        "  grid_clf.fit(X_train_scaled,y_train)\n",
        "  print(f\"The Train accuracy for the {clf} is {grid_clf.score(X_train_scaled,y_train)}\")\n",
        "  print(f\"The Test accuracy for the {clf} is {grid_clf.score(X_test_scaled,y_test)}\")\n",
        "  print(f\"The Best param for the {clf} is {grid_clf.best_params_}\")\n",
        "  print(\"====================\\n\")"
      ]
    },
    {
      "cell_type": "code",
      "execution_count": null,
      "metadata": {
        "id": "LPm5pR0jJwQr",
        "colab": {
          "base_uri": "https://localhost:8080/"
        },
        "outputId": "88d59de2-b6a4-44ef-eb6e-d2e271f764a4"
      },
      "outputs": [
        {
          "output_type": "execute_result",
          "data": {
            "text/plain": [
              "RandomForestClassifier(criterion='entropy', max_depth=10, max_features='log2',\n",
              "                       n_estimators=9)"
            ]
          },
          "metadata": {},
          "execution_count": 79
        }
      ],
      "source": [
        "#Making the best model-Random Forest\n",
        "\n",
        "random_clf=RandomForestClassifier(criterion ='entropy', max_depth =10, max_features='log2', n_estimators=9)\n",
        "random_clf.fit(X_train_scaled,y_train)"
      ]
    },
    {
      "cell_type": "code",
      "source": [
        "import joblib\n",
        "joblib.dump(random_clf,\"/content/drive/MyDrive/Luminar_Projects/HR_Analytics/model.pkl\")"
      ],
      "metadata": {
        "colab": {
          "base_uri": "https://localhost:8080/"
        },
        "id": "pRwRk2oG5nHB",
        "outputId": "c402cde2-cea3-472f-f645-21e9b4afc987"
      },
      "execution_count": null,
      "outputs": [
        {
          "output_type": "execute_result",
          "data": {
            "text/plain": [
              "['/content/drive/MyDrive/Luminar_Projects/HR_Analytics/model.pkl']"
            ]
          },
          "metadata": {},
          "execution_count": 80
        }
      ]
    },
    {
      "cell_type": "code",
      "source": [
        ""
      ],
      "metadata": {
        "id": "T5F7iIGoWHCN"
      },
      "execution_count": null,
      "outputs": []
    }
  ],
  "metadata": {
    "colab": {
      "collapsed_sections": [],
      "name": "HR_Analytics.ipynb",
      "provenance": [],
      "include_colab_link": true
    },
    "kernelspec": {
      "display_name": "Python 3",
      "name": "python3"
    },
    "language_info": {
      "name": "python"
    },
    "accelerator": "GPU",
    "gpuClass": "standard"
  },
  "nbformat": 4,
  "nbformat_minor": 0
}